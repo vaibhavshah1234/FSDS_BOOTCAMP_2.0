{
 "cells": [
  {
   "cell_type": "markdown",
   "id": "77ce0eea-18cb-4846-a5ee-07ae8943250a",
   "metadata": {},
   "source": [
    "#### Q1. What exactly is [ ]?"
   ]
  },
  {
   "cell_type": "code",
   "execution_count": 1,
   "id": "592808e6-48dc-4620-a852-04c7df1cafa3",
   "metadata": {},
   "outputs": [],
   "source": [
    "# Ans - It is an empty list"
   ]
  },
  {
   "cell_type": "markdown",
   "id": "b743f55f-0731-4c14-b7b4-1e43c12273be",
   "metadata": {},
   "source": [
    "#### Q2. In a list of values stored in a variable called spam, how would you assign the value hello' as the third value? (Assume [2, 4, 6, 8, 10] are in spam.)"
   ]
  },
  {
   "cell_type": "code",
   "execution_count": 2,
   "id": "ff594596-bde1-4794-b1c7-4656eb6e4d47",
   "metadata": {},
   "outputs": [
    {
     "data": {
      "text/plain": [
       "[2, 4, 'hello', 8, 10]"
      ]
     },
     "execution_count": 2,
     "metadata": {},
     "output_type": "execute_result"
    }
   ],
   "source": [
    "spam = [2,4,6,8,10]\n",
    "spam[2] = \"hello\"\n",
    "spam"
   ]
  },
  {
   "cell_type": "markdown",
   "id": "081f0229-f833-4062-ace3-5af4fcc91da9",
   "metadata": {},
   "source": [
    "#### Lets pretend the spam includes the list ['a', 'b','c','d'] for the next three queries.\n",
    "#### Q3. What is the value of spam[int(int(&#39;3&#39; * 2) / 11)]?"
   ]
  },
  {
   "cell_type": "code",
   "execution_count": 3,
   "id": "905e35b6-d9b5-4566-a86f-566abfb395cb",
   "metadata": {},
   "outputs": [
    {
     "data": {
      "text/plain": [
       "'d'"
      ]
     },
     "execution_count": 3,
     "metadata": {},
     "output_type": "execute_result"
    }
   ],
   "source": [
    "spam = ['a','b','c','d']\n",
    "\n",
    "spam[int(int('3' * 2) / 11)]"
   ]
  },
  {
   "cell_type": "markdown",
   "id": "3da40b36-bd49-4135-8d97-4929555ce417",
   "metadata": {},
   "source": [
    "#### Q4. What is the value of spam[-1]?"
   ]
  },
  {
   "cell_type": "code",
   "execution_count": 5,
   "id": "891a6794-d7a4-4f1b-885f-ef0645699054",
   "metadata": {},
   "outputs": [
    {
     "data": {
      "text/plain": [
       "'d'"
      ]
     },
     "execution_count": 5,
     "metadata": {},
     "output_type": "execute_result"
    }
   ],
   "source": [
    "spam = ['a','b','c','d'] \n",
    "\n",
    "spam[-1] # -1 index from back side means 1st element from reverse in the list."
   ]
  },
  {
   "cell_type": "markdown",
   "id": "9fa4e568-d910-4b3b-a38f-c1a699afb614",
   "metadata": {},
   "source": [
    "#### Q5. What is the value of spam[:2]?"
   ]
  },
  {
   "cell_type": "code",
   "execution_count": 6,
   "id": "56de1f59-4e91-4842-9b1b-4f709ceb1331",
   "metadata": {},
   "outputs": [
    {
     "data": {
      "text/plain": [
       "['a', 'b']"
      ]
     },
     "execution_count": 6,
     "metadata": {},
     "output_type": "execute_result"
    }
   ],
   "source": [
    "spam = ['a','b','c','d'] \n",
    "spam[:2] # start:End(but last not included)"
   ]
  },
  {
   "cell_type": "markdown",
   "id": "923be628-4a7b-45a1-9fb1-4fba1c123bb1",
   "metadata": {},
   "source": [
    "#### Let's pretend bacon has the list [3.14, 'cat' 11, 'cat' True] for the next three questions.*\n",
    "\n",
    "#### Q6. What is the value of bacon.index('cat')?"
   ]
  },
  {
   "cell_type": "code",
   "execution_count": 9,
   "id": "98eb142d-4617-407e-b8be-762071f975c0",
   "metadata": {},
   "outputs": [
    {
     "data": {
      "text/plain": [
       "1"
      ]
     },
     "execution_count": 9,
     "metadata": {},
     "output_type": "execute_result"
    }
   ],
   "source": [
    "bacon = [3.14, 'cat', 11, 'cat', True]\n",
    "bacon.index('cat') # # it returns the index of first occurrence of 'cat'"
   ]
  },
  {
   "cell_type": "markdown",
   "id": "26523287-9529-40a8-999b-97b5c6e9c888",
   "metadata": {},
   "source": [
    "#### Q7 How does bacon.append(99) change the look of the list value in bacon?"
   ]
  },
  {
   "cell_type": "code",
   "execution_count": 12,
   "id": "46b1d772-18f4-4b96-a931-52df382b9c98",
   "metadata": {},
   "outputs": [
    {
     "name": "stdout",
     "output_type": "stream",
     "text": [
      "[3.14, 'cat', 11, 'cat', True, 99]\n"
     ]
    }
   ],
   "source": [
    "bacon = [3.14, 'cat', 11, 'cat', True]\n",
    "bacon.append(99)  # append adds the item at the end of the list\n",
    "print(bacon)"
   ]
  },
  {
   "cell_type": "markdown",
   "id": "c171efb8-cc6f-4011-821c-0a44e8b8961c",
   "metadata": {},
   "source": [
    "#### Q8.How does bacon.remove('cat') change the look of the list in bacon?\n"
   ]
  },
  {
   "cell_type": "code",
   "execution_count": 14,
   "id": "1e5788f4-e049-4be2-8a35-55cdd8fefdbd",
   "metadata": {},
   "outputs": [
    {
     "name": "stdout",
     "output_type": "stream",
     "text": [
      "[3.14, 11, 'cat', True]\n"
     ]
    }
   ],
   "source": [
    "bacon = [3.14, 'cat', 11, 'cat', True]\n",
    "bacon.remove('cat') # remove first occurrence of item\n",
    "print(bacon)"
   ]
  },
  {
   "cell_type": "markdown",
   "id": "0772f1be-cd0b-4ba0-a888-5f3c81d36891",
   "metadata": {},
   "source": [
    "#### Q9. What are the list concatenation and list replication operators?"
   ]
  },
  {
   "cell_type": "code",
   "execution_count": 15,
   "id": "db1fdc52-daca-4c13-b074-67e47d60c482",
   "metadata": {},
   "outputs": [
    {
     "name": "stdout",
     "output_type": "stream",
     "text": [
      "[1, 2, 3, 4, 5, 6]\n"
     ]
    }
   ],
   "source": [
    "# Ans - List concatination = + operation\n",
    "#       List Replication = * operation\n",
    "\n",
    "# List concatination: \n",
    "l1 = [1, 2, 3]\n",
    "l2 = [4, 5, 6]\n",
    "L = l1 + l2\n",
    "print(L)"
   ]
  },
  {
   "cell_type": "code",
   "execution_count": 17,
   "id": "bb584368-95c8-407c-b6ee-0ba983538b71",
   "metadata": {},
   "outputs": [
    {
     "name": "stdout",
     "output_type": "stream",
     "text": [
      "[1, 2, 3, 1, 2, 3]\n"
     ]
    }
   ],
   "source": [
    "# List Replication\n",
    "l1 = [1, 2, 3]\n",
    "L1 = l1 * 2\n",
    "print(L1)"
   ]
  },
  {
   "cell_type": "markdown",
   "id": "2759f3c8-2838-4a5d-9684-d2a5d371bd31",
   "metadata": {},
   "source": [
    "#### Q10. What is difference between the list methods append() and insert()?\n",
    "### Ans :-\n",
    "\n",
    "append() - adding the element in the list from end of the list\n",
    "\n",
    "insert() - inserting the element in the list whereever we want in the list by declaring the index no."
   ]
  },
  {
   "cell_type": "code",
   "execution_count": 18,
   "id": "10fec1b9-9854-4d0e-b4f4-3e2eb7075fa0",
   "metadata": {},
   "outputs": [
    {
     "name": "stdout",
     "output_type": "stream",
     "text": [
      "[1, 2, 3, 'vaibhav']\n"
     ]
    }
   ],
   "source": [
    "l = [1, 2, 3]\n",
    "l.append(\"vaibhav\")\n",
    "print(l)"
   ]
  },
  {
   "cell_type": "code",
   "execution_count": 21,
   "id": "4f68a87c-ae16-41d9-a6c1-5219ee0fef52",
   "metadata": {},
   "outputs": [
    {
     "name": "stdout",
     "output_type": "stream",
     "text": [
      "[1, 2, 4, 3]\n"
     ]
    }
   ],
   "source": [
    "l = [1, 2, 3]\n",
    "l.insert(2,4) #(index_no , element)\n",
    "print(l)"
   ]
  },
  {
   "cell_type": "markdown",
   "id": "f63dae1f-a49e-4a18-bb2e-4d3653ef55ff",
   "metadata": {},
   "source": [
    "#### Q11. What are the two methods for removing items from a list?\n",
    "\n",
    "Ans - \n",
    "\n",
    "remove() - removes first occurence of a item\n",
    "\n",
    "pop() - removes last element from tha list "
   ]
  },
  {
   "cell_type": "code",
   "execution_count": 24,
   "id": "ddd82149-84d5-4e96-93fb-f18faabc5c18",
   "metadata": {},
   "outputs": [
    {
     "data": {
      "text/plain": [
       "[1, 3, 2]"
      ]
     },
     "execution_count": 24,
     "metadata": {},
     "output_type": "execute_result"
    }
   ],
   "source": [
    "# remove()\n",
    "l = [1, 2, 3, 2]\n",
    "l.remove(2)\n",
    "l"
   ]
  },
  {
   "cell_type": "code",
   "execution_count": 28,
   "id": "8f9ec838-461b-4277-a227-42680d9259af",
   "metadata": {},
   "outputs": [
    {
     "data": {
      "text/plain": [
       "[1, 2, 3]"
      ]
     },
     "execution_count": 28,
     "metadata": {},
     "output_type": "execute_result"
    }
   ],
   "source": [
    "# pop()\n",
    "l = [1, 2, 3, 2]\n",
    "l.pop()\n",
    "l"
   ]
  },
  {
   "cell_type": "markdown",
   "id": "47486919-75b1-4e18-a690-93d621221dce",
   "metadata": {},
   "source": [
    "## Q12. Describe how list values and string values are identical.\n",
    "### Ans - \n",
    "\n",
    "1. Both lists and strings can be passed to len()\n",
    "2. Have indexes and slices\n",
    "3. Can be used in for loops\n",
    "4. Can be concatenated or replicated"
   ]
  },
  {
   "cell_type": "markdown",
   "id": "710c15ef-09be-4291-b31e-69ff637da014",
   "metadata": {},
   "source": [
    "#### Q13. What's the difference between tuples and lists?\n",
    "\n",
    "Ans - \n",
    "\n",
    "1. tuples - they are immutable.\n",
    "2. list - they are mutable"
   ]
  },
  {
   "cell_type": "markdown",
   "id": "1af57c85-66af-4add-b233-1c47936309bd",
   "metadata": {},
   "source": [
    "#### Q14. How do you type a tuple value that only contains the integer 42?"
   ]
  },
  {
   "cell_type": "code",
   "execution_count": 30,
   "id": "5f19dad9-4ced-4e0b-bb39-4fdf8e7d7891",
   "metadata": {},
   "outputs": [
    {
     "data": {
      "text/plain": [
       "42"
      ]
     },
     "execution_count": 30,
     "metadata": {},
     "output_type": "execute_result"
    }
   ],
   "source": [
    "tuple = (42)\n",
    "tuple\n",
    "     "
   ]
  },
  {
   "cell_type": "markdown",
   "id": "1f009581-c1b6-41b5-85bd-1c691611e8d2",
   "metadata": {},
   "source": [
    "#### Q15. How do you get a list value's tuple form? How do you get a tuple value's list form?"
   ]
  },
  {
   "cell_type": "code",
   "execution_count": 2,
   "id": "e5a46e6b-e911-4755-8a32-ea5a4f798399",
   "metadata": {},
   "outputs": [
    {
     "data": {
      "text/plain": [
       "[2, 3]"
      ]
     },
     "execution_count": 2,
     "metadata": {},
     "output_type": "execute_result"
    }
   ],
   "source": [
    "l1 = (2,3)\n",
    "l = list(l1)\n",
    "l"
   ]
  },
  {
   "cell_type": "markdown",
   "id": "991c3097-de0b-463d-899c-6ddd1e3b39b2",
   "metadata": {},
   "source": [
    "#### "
   ]
  },
  {
   "cell_type": "code",
   "execution_count": 3,
   "id": "31cdd968-6f51-49c7-9191-316c474367e1",
   "metadata": {},
   "outputs": [
    {
     "data": {
      "text/plain": [
       "(2, 3)"
      ]
     },
     "execution_count": 3,
     "metadata": {},
     "output_type": "execute_result"
    }
   ],
   "source": [
    "l1 = [2,3]\n",
    "l = tuple(l1)\n",
    "l"
   ]
  },
  {
   "cell_type": "markdown",
   "id": "5817f078-af08-476a-97ea-c055c9db9df7",
   "metadata": {},
   "source": [
    "#### Q16. Variables that &quot;contain&quot; list values are not necessarily lists themselves. Instead, what do they contain?"
   ]
  },
  {
   "cell_type": "code",
   "execution_count": 4,
   "id": "2345f3d7-de2a-4db8-98d2-d03bcd779374",
   "metadata": {},
   "outputs": [],
   "source": [
    "# Ans - They contain references to list values"
   ]
  },
  {
   "cell_type": "markdown",
   "id": "3bf21a6b-a86a-40e3-a3ea-3f7b46d6d2f1",
   "metadata": {},
   "source": [
    "#### Q17. How do you distinguish between copy.copy() and copy.deepcopy()?"
   ]
  },
  {
   "cell_type": "markdown",
   "id": "764b1cad-8872-4896-8da2-e92648b8b9e7",
   "metadata": {},
   "source": [
    "#### Ans -\n",
    "1. copy.copy() function will do a shallow copy of a list,\n",
    "2. copy.deepcopy() function will do a deep copy of a list. only copy.deepcopy() will duplicate any lists inside the list"
   ]
  }
 ],
 "metadata": {
  "kernelspec": {
   "display_name": "Python 3 (ipykernel)",
   "language": "python",
   "name": "python3"
  },
  "language_info": {
   "codemirror_mode": {
    "name": "ipython",
    "version": 3
   },
   "file_extension": ".py",
   "mimetype": "text/x-python",
   "name": "python",
   "nbconvert_exporter": "python",
   "pygments_lexer": "ipython3",
   "version": "3.10.6"
  }
 },
 "nbformat": 4,
 "nbformat_minor": 5
}
