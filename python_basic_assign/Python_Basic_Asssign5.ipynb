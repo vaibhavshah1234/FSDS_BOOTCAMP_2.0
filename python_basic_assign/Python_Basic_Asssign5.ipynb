{
 "cells": [
  {
   "cell_type": "markdown",
   "id": "8adbb3f4-ec0d-4ec8-9695-5c85dc103746",
   "metadata": {},
   "source": [
    "#### Q1. What does an empty dictionary's code look like?"
   ]
  },
  {
   "cell_type": "code",
   "execution_count": 1,
   "id": "3b5e2a8d-c35b-4978-aee4-258b439026c7",
   "metadata": {},
   "outputs": [
    {
     "data": {
      "text/plain": [
       "dict"
      ]
     },
     "execution_count": 1,
     "metadata": {},
     "output_type": "execute_result"
    }
   ],
   "source": [
    "d = {}\n",
    "type(d)"
   ]
  },
  {
   "cell_type": "markdown",
   "id": "f14a9acf-3235-420e-9b15-2dc432acc153",
   "metadata": {},
   "source": [
    "#### Q2. What is the value of a dictionary value with the key 'foo' and the value 42?"
   ]
  },
  {
   "cell_type": "code",
   "execution_count": 3,
   "id": "3a7a61c4-24ca-4568-a001-e19a4eb9ffba",
   "metadata": {},
   "outputs": [
    {
     "data": {
      "text/plain": [
       "{'foo': 42}"
      ]
     },
     "execution_count": 3,
     "metadata": {},
     "output_type": "execute_result"
    }
   ],
   "source": [
    "dic = {'foo':42}\n",
    "dic"
   ]
  },
  {
   "cell_type": "markdown",
   "id": "0b773ca4-6bf4-4363-a17b-74618a9ddb23",
   "metadata": {},
   "source": [
    "#### Q3. What is the most significant distinction between a dictionary and a list?"
   ]
  },
  {
   "cell_type": "code",
   "execution_count": 4,
   "id": "d6709cfd-c4a5-4e80-9f05-128fb4a68d6e",
   "metadata": {},
   "outputs": [],
   "source": [
    "# Ans - Dictionary always have key value pair while list is a list of certain values"
   ]
  },
  {
   "cell_type": "markdown",
   "id": "19b946b4-0600-41fa-9a8f-6aece9b42bcf",
   "metadata": {},
   "source": [
    "#### Q4. What happens if you try to access spam['foo'] if spam is {'bar': 100}?"
   ]
  },
  {
   "cell_type": "code",
   "execution_count": 6,
   "id": "cda968c5-2ade-4501-80af-a1b797be0847",
   "metadata": {},
   "outputs": [
    {
     "ename": "KeyError",
     "evalue": "'foo'",
     "output_type": "error",
     "traceback": [
      "\u001b[0;31m---------------------------------------------------------------------------\u001b[0m",
      "\u001b[0;31mKeyError\u001b[0m                                  Traceback (most recent call last)",
      "Cell \u001b[0;32mIn [6], line 2\u001b[0m\n\u001b[1;32m      1\u001b[0m spam \u001b[38;5;241m=\u001b[39m {\u001b[38;5;124m'\u001b[39m\u001b[38;5;124mbar\u001b[39m\u001b[38;5;124m'\u001b[39m: \u001b[38;5;241m100\u001b[39m}\n\u001b[0;32m----> 2\u001b[0m \u001b[43mspam\u001b[49m\u001b[43m[\u001b[49m\u001b[38;5;124;43m'\u001b[39;49m\u001b[38;5;124;43mfoo\u001b[39;49m\u001b[38;5;124;43m'\u001b[39;49m\u001b[43m]\u001b[49m\n",
      "\u001b[0;31mKeyError\u001b[0m: 'foo'"
     ]
    }
   ],
   "source": [
    "spam = {'bar': 100}\n",
    "spam['foo'] # this gives KeyError because in dict key= 'foo' is not present"
   ]
  },
  {
   "cell_type": "markdown",
   "id": "ff55b109-bea1-41ad-bf4d-4c5886f3affa",
   "metadata": {},
   "source": [
    "#### Q5. If a dictionary is stored in spam, what is the difference between the expressions 'cat' in spam and 'cat' in spam.keys()?\n",
    "\n",
    "#### Ans = There is no difference"
   ]
  },
  {
   "cell_type": "code",
   "execution_count": 11,
   "id": "2098e60b-08bb-4a5f-9b46-95a927c73812",
   "metadata": {},
   "outputs": [
    {
     "data": {
      "text/plain": [
       "True"
      ]
     },
     "execution_count": 11,
     "metadata": {},
     "output_type": "execute_result"
    }
   ],
   "source": [
    "spam = {'cat' : 'animal'}\n",
    "'cat' in spam.keys()"
   ]
  },
  {
   "cell_type": "code",
   "execution_count": 12,
   "id": "a0d9e027-7bc7-4a3f-891f-d5f3e7331d73",
   "metadata": {},
   "outputs": [
    {
     "data": {
      "text/plain": [
       "True"
      ]
     },
     "execution_count": 12,
     "metadata": {},
     "output_type": "execute_result"
    }
   ],
   "source": [
    "spam = {'cat' : 'animal'}\n",
    "'cat' in spam"
   ]
  },
  {
   "cell_type": "markdown",
   "id": "0d4aac84-05b3-494a-9279-c3a5c7b467d1",
   "metadata": {},
   "source": [
    "#### Q6. If a dictionary is stored in spam, what is the difference between the expressions 'cat' in spam and 'cat' in spam.values()?"
   ]
  },
  {
   "cell_type": "code",
   "execution_count": 13,
   "id": "2e4d3945-4b84-4ed6-8b76-d7d71fc2e0ff",
   "metadata": {},
   "outputs": [
    {
     "data": {
      "text/plain": [
       "True"
      ]
     },
     "execution_count": 13,
     "metadata": {},
     "output_type": "execute_result"
    }
   ],
   "source": [
    "spam = {'cat' : 'animal'}\n",
    "'cat' in spam"
   ]
  },
  {
   "cell_type": "code",
   "execution_count": 14,
   "id": "d0171f56-dae0-4bb0-8e71-d815582d1e97",
   "metadata": {},
   "outputs": [
    {
     "data": {
      "text/plain": [
       "False"
      ]
     },
     "execution_count": 14,
     "metadata": {},
     "output_type": "execute_result"
    }
   ],
   "source": [
    "spam = {'cat' : 'animal'}\n",
    "'cat' in spam.values()"
   ]
  },
  {
   "cell_type": "markdown",
   "id": "0a66c21c-3bc4-4f03-86ea-a9a8cfde9cde",
   "metadata": {},
   "source": [
    "#### Q7. What is a shortcut for the following code?"
   ]
  },
  {
   "cell_type": "code",
   "execution_count": 16,
   "id": "d12dd5b3-222e-4d4a-a332-996b70941294",
   "metadata": {},
   "outputs": [],
   "source": [
    "# spam.setdefault('color', 'black')"
   ]
  },
  {
   "cell_type": "markdown",
   "id": "b524c732-5a7e-4f30-a05f-935f8a1075f4",
   "metadata": {},
   "source": [
    "#### Q8. 8. How do you &quot;pretty print&quot; dictionary values using which module and function?"
   ]
  },
  {
   "cell_type": "code",
   "execution_count": 19,
   "id": "a869fa05-1848-4b63-b0a0-1865d3c0e5bd",
   "metadata": {},
   "outputs": [
    {
     "ename": "NameError",
     "evalue": "name 'n' is not defined",
     "output_type": "error",
     "traceback": [
      "\u001b[0;31m---------------------------------------------------------------------------\u001b[0m",
      "\u001b[0;31mNameError\u001b[0m                                 Traceback (most recent call last)",
      "Cell \u001b[0;32mIn [19], line 3\u001b[0m\n\u001b[1;32m      1\u001b[0m \u001b[38;5;28;01mimport\u001b[39;00m \u001b[38;5;21;01mpprint\u001b[39;00m\n\u001b[1;32m      2\u001b[0m \u001b[38;5;66;03m# printing with pprint()\u001b[39;00m\n\u001b[0;32m----> 3\u001b[0m pprint\u001b[38;5;241m.\u001b[39mpprint(\u001b[43mn\u001b[49m)\n",
      "\u001b[0;31mNameError\u001b[0m: name 'n' is not defined"
     ]
    }
   ],
   "source": [
    "import pprint\n",
    "# printing with pprint()\n",
    "dic= { 'sub' :'python', 'mentor': 'shudanshu sir', 'batc'\n",
    "\n",
    "\n",
    "}\n",
    "pprint.pprint(n)\n"
   ]
  },
  {
   "cell_type": "code",
   "execution_count": null,
   "id": "c71aea2b-c388-4df1-a4d4-8df4fdb853a8",
   "metadata": {},
   "outputs": [],
   "source": []
  }
 ],
 "metadata": {
  "kernelspec": {
   "display_name": "Python 3 (ipykernel)",
   "language": "python",
   "name": "python3"
  },
  "language_info": {
   "codemirror_mode": {
    "name": "ipython",
    "version": 3
   },
   "file_extension": ".py",
   "mimetype": "text/x-python",
   "name": "python",
   "nbconvert_exporter": "python",
   "pygments_lexer": "ipython3",
   "version": "3.10.6"
  }
 },
 "nbformat": 4,
 "nbformat_minor": 5
}
