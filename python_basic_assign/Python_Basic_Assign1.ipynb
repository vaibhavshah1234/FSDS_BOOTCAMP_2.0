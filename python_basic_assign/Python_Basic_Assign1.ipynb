{
 "cells": [
  {
   "cell_type": "markdown",
   "id": "9ef3de41-4214-48f2-bcd3-824f6ae9a189",
   "metadata": {},
   "source": [
    "#### Q1. 1. In the below elements which of them are values or an expression? eg:- values can be integer or string and expressions will be mathematical operators.\n",
    "1. *\n",
    "2. 'hello'\n",
    "3. -87.8\n",
    "4.  -- (minus)\n",
    "5. /\n",
    "6. + (plus)\n",
    "7. 6"
   ]
  },
  {
   "cell_type": "code",
   "execution_count": 1,
   "id": "3f61790e-f0c8-4b3b-ab22-69a91ad6ecbc",
   "metadata": {},
   "outputs": [],
   "source": [
    "# Ans - Values = 'hello' , -87.8 , 6 \n",
    "#      expression =  * , - , /, +"
   ]
  },
  {
   "cell_type": "markdown",
   "id": "8155b759-1f17-4f6b-87cb-dc3b0db5b4b4",
   "metadata": {},
   "source": [
    "#### Q2. What is the difference between string and variable?"
   ]
  },
  {
   "cell_type": "code",
   "execution_count": 3,
   "id": "f8174dd1-fc4b-4721-88de-fd01c21f31dc",
   "metadata": {},
   "outputs": [],
   "source": [
    "\n",
    "# Ans - string is type of information which is stored in variable and variable stores the information.\n"
   ]
  },
  {
   "cell_type": "markdown",
   "id": "b9785efa-9af3-48de-80a3-d3b7974a5cfa",
   "metadata": {},
   "source": [
    "#### Q3. Describe three different data types."
   ]
  },
  {
   "cell_type": "code",
   "execution_count": 4,
   "id": "1ae15474-3de1-43c9-ba58-716899468880",
   "metadata": {},
   "outputs": [],
   "source": [
    "# Ans - 1. Integer: like whole numbers (5,10,1,8)\n",
    "#       2. Float : integer with decimal (80.00, 45.21)\n",
    "#       3. string: Hello World\n",
    "#       4. Boolean: True / False"
   ]
  },
  {
   "cell_type": "markdown",
   "id": "c7429bce-b75b-47b2-aa9e-5d3f6bec039a",
   "metadata": {},
   "source": [
    "#### Q4. What is an expression made up of? What do all expressions do?"
   ]
  },
  {
   "cell_type": "code",
   "execution_count": 5,
   "id": "11267325-c7df-4735-8175-0a990145af03",
   "metadata": {},
   "outputs": [],
   "source": [
    "# Ans - expression is a combination of operators and operands \n",
    "#       Ex: 2+5 = 7 (Here 2, 5, 7 are operands and +,= are operators)\n",
    "# it is use to produse some other value.\n"
   ]
  },
  {
   "cell_type": "markdown",
   "id": "9341686a-cc71-4fca-8c4a-ad568cda6f2c",
   "metadata": {},
   "source": [
    "#### Q5. This assignment statements, like spam = 10. What is the difference between an expression and a statement?"
   ]
  },
  {
   "cell_type": "code",
   "execution_count": 6,
   "id": "162dff2b-052c-4855-90e8-2bcd6bebe16f",
   "metadata": {},
   "outputs": [],
   "source": [
    "# Ans -  An expression evaluates to a single value. A statement does not."
   ]
  },
  {
   "cell_type": "markdown",
   "id": "6cdf9be2-5791-4dcb-8dcf-093222fdfa60",
   "metadata": {},
   "source": [
    "#### Q6. After running the following code, what does the variable bacon contain?\n",
    "##### bacon = 22\n",
    "##### bacon + 1"
   ]
  },
  {
   "cell_type": "code",
   "execution_count": 7,
   "id": "8474345a-fd9e-4201-9b5c-c8fa88ed4506",
   "metadata": {},
   "outputs": [
    {
     "name": "stdout",
     "output_type": "stream",
     "text": [
      "22\n"
     ]
    }
   ],
   "source": [
    "bacon = 22\n",
    "bacon + 1\n",
    "print(bacon)"
   ]
  },
  {
   "cell_type": "markdown",
   "id": "464ea0d4-dcf7-4cb8-9b1b-b8c2eca66e6b",
   "metadata": {},
   "source": [
    "#### Q7. What should the values of the following two terms be?\n",
    "1. 'spam' + 'spamspam'\n",
    "2. 'spam'*3"
   ]
  },
  {
   "cell_type": "code",
   "execution_count": 8,
   "id": "24b34d4b-f2e0-4d7e-b33b-a869c65504fc",
   "metadata": {},
   "outputs": [
    {
     "data": {
      "text/plain": [
       "'spamspamspam'"
      ]
     },
     "execution_count": 8,
     "metadata": {},
     "output_type": "execute_result"
    }
   ],
   "source": [
    "1. 'spam' + 'spamspam'\n",
    "2. 'spam'*3\n",
    "# both give the same o/p : \n",
    "# o/p = 'spamspamspam'  "
   ]
  },
  {
   "cell_type": "markdown",
   "id": "0fc7e28f-838b-488e-aac7-c8b81c862eca",
   "metadata": {},
   "source": [
    "#### Q8. Why is eggs a valid variable name while 100 is invalid?"
   ]
  },
  {
   "cell_type": "code",
   "execution_count": 10,
   "id": "3f7c7d69-011c-4284-a3ef-0c97c2252fa1",
   "metadata": {},
   "outputs": [],
   "source": [
    "# Ans -  eggs a valid variable name while 100 is invalid because variable name cannot begin from a numbers."
   ]
  },
  {
   "cell_type": "markdown",
   "id": "69645cb3-8007-4a7d-91cc-6987b5376ba1",
   "metadata": {},
   "source": [
    "#### Q9. What three functions can be used to get the integer, floating-point number, or string version of a value?"
   ]
  },
  {
   "cell_type": "code",
   "execution_count": 11,
   "id": "b8302760-ce13-44fe-af6e-e701d33397c7",
   "metadata": {},
   "outputs": [],
   "source": [
    "# Ans - 1. Integer - int()\n",
    "#       2. Floating no - float() \n",
    "#       3. string - str()"
   ]
  },
  {
   "cell_type": "markdown",
   "id": "f7e1825b-5db1-482f-9cfd-644d6feeadfe",
   "metadata": {},
   "source": [
    "#### Q10. Why does this expression cause an error? How can you fix it?\n",
    "##### 'I have eaten' + 99 + 'burritos.'"
   ]
  },
  {
   "cell_type": "code",
   "execution_count": 15,
   "id": "a25cb56a-461f-4220-9b0d-c674c1df64f1",
   "metadata": {},
   "outputs": [
    {
     "name": "stdout",
     "output_type": "stream",
     "text": [
      "I have eaten 99 burritos\n"
     ]
    }
   ],
   "source": [
    "# Ans - string can not be concatinated to integer (this is error)\n",
    "a =99\n",
    "print(f'I have eaten {a} burritos')"
   ]
  }
 ],
 "metadata": {
  "kernelspec": {
   "display_name": "Python 3 (ipykernel)",
   "language": "python",
   "name": "python3"
  },
  "language_info": {
   "codemirror_mode": {
    "name": "ipython",
    "version": 3
   },
   "file_extension": ".py",
   "mimetype": "text/x-python",
   "name": "python",
   "nbconvert_exporter": "python",
   "pygments_lexer": "ipython3",
   "version": "3.10.6"
  }
 },
 "nbformat": 4,
 "nbformat_minor": 5
}
