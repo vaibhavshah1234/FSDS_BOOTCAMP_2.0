{
 "cells": [
  {
   "cell_type": "markdown",
   "id": "eb32ed40-7525-4110-93d2-d9c57b711330",
   "metadata": {},
   "source": [
    "#### Q1. What are escape characters, and how do you use them?\n",
    "\n",
    "Ans - Escape characters represent characters in string values that would otherwise be difficult or impossible to type into code"
   ]
  },
  {
   "cell_type": "code",
   "execution_count": 13,
   "id": "ff86a41b-c50b-4c6b-b526-6b758f16d2a2",
   "metadata": {},
   "outputs": [
    {
     "name": "stdout",
     "output_type": "stream",
     "text": [
      " Hello \\ineuron \\ team \n"
     ]
    }
   ],
   "source": [
    "print(\" Hello \\ineuron \\ team \")"
   ]
  },
  {
   "cell_type": "markdown",
   "id": "44ab46a7-ce1c-4bba-b371-913cc5efcf63",
   "metadata": {},
   "source": [
    "#### Q2. What do the escape characters n and t stand for?\n",
    "\n",
    "Ans - \\n is a newline;   \\t is a tab"
   ]
  },
  {
   "cell_type": "markdown",
   "id": "334083d8-367b-42e5-abea-d99ddf7381c9",
   "metadata": {},
   "source": [
    "#### Q3. What is the way to include backslash characters in a string?"
   ]
  },
  {
   "cell_type": "code",
   "execution_count": null,
   "id": "82bf5dc6-6500-45e1-b000-321c4180fb9b",
   "metadata": {},
   "outputs": [],
   "source": [
    "# Ans - The \\\\ escape character will represent a backslash character."
   ]
  },
  {
   "cell_type": "markdown",
   "id": "9866ab3e-1cc5-4d03-bbf7-125a6d994247",
   "metadata": {},
   "source": [
    "#### Q4. The string \"Howl's Moving Castle\" is a correct value. Why isn't the single quote character in the word Howl's not escaped a problem?"
   ]
  },
  {
   "cell_type": "code",
   "execution_count": 15,
   "id": "c221c82b-e3d2-4368-98f5-84d0cc6e478e",
   "metadata": {},
   "outputs": [
    {
     "name": "stdout",
     "output_type": "stream",
     "text": [
      "Howl's Moving Castle\n"
     ]
    }
   ],
   "source": [
    "# Ans - because double quotes is used to mark the beginning and end of the string.\n",
    "\n",
    "# EX:\n",
    "print(\"Howl's Moving Castle\")"
   ]
  },
  {
   "cell_type": "markdown",
   "id": "913bf250-5e1d-4129-b487-008255710e8c",
   "metadata": {},
   "source": [
    "#### Q5. How do you write a string of newlines if you don't want to use the n character?"
   ]
  },
  {
   "cell_type": "code",
   "execution_count": 18,
   "id": "c0bc7294-5c92-4ac6-9160-565e14eeb8a3",
   "metadata": {},
   "outputs": [
    {
     "name": "stdout",
     "output_type": "stream",
     "text": [
      "\n",
      "hello team member\n",
      "this is python code\n",
      "\n",
      "\n"
     ]
    }
   ],
   "source": [
    "print(       # Using multi string we can write a string of newlines if we don't want to use the n character\n",
    "\"\"\"\n",
    "hello team member\n",
    "this is python code\n",
    "\n",
    "\"\"\"\n",
    "\n",
    "\n",
    ")"
   ]
  },
  {
   "cell_type": "markdown",
   "id": "37f984ae-1501-4697-b7c5-856b5ba9b08f",
   "metadata": {},
   "source": [
    "#### Q6. What are the values of the given expressions?\n",
    "1. 'Hello, world!'[1] \n",
    "2. 'Hello, world!'[0:5] \n",
    "3. 'Hello, world!'[:5] \n",
    "4. 'Hello, world!'[3:]"
   ]
  },
  {
   "cell_type": "code",
   "execution_count": 20,
   "id": "ea59f280-5938-44b1-a90a-8f4485c857c3",
   "metadata": {},
   "outputs": [
    {
     "name": "stdout",
     "output_type": "stream",
     "text": [
      "e\n",
      "Hello\n",
      "Hello\n",
      "lo, world!\n"
     ]
    }
   ],
   "source": [
    "print('Hello, world!'[1])\n",
    "print('Hello, world!'[0:5])\n",
    "print('Hello, world!'[:5])\n",
    "print('Hello, world!'[3:])"
   ]
  },
  {
   "cell_type": "markdown",
   "id": "eecfc371-5465-450e-a755-489e2c30bc68",
   "metadata": {},
   "source": [
    "#### Q7. What are the values of the following expressions?\n",
    "1. 'Hello'.upper() \n",
    "2. 'Hello'.upper().isupper()  \n",
    "3. 'Hello'.upper().lower()"
   ]
  },
  {
   "cell_type": "code",
   "execution_count": 21,
   "id": "746c44cc-e9e1-49cf-b099-6804dab1bc77",
   "metadata": {},
   "outputs": [
    {
     "name": "stdout",
     "output_type": "stream",
     "text": [
      "HELLO\n",
      "True\n",
      "hello\n"
     ]
    }
   ],
   "source": [
    "print('Hello'.upper())\n",
    "print('Hello'.upper().isupper())\n",
    "print('Hello'.upper().lower())"
   ]
  },
  {
   "cell_type": "markdown",
   "id": "1cbaaea7-8f77-48a2-a001-96bc8954f8a7",
   "metadata": {},
   "source": [
    "#### Q8. What are the values of the following expressions?"
   ]
  },
  {
   "cell_type": "code",
   "execution_count": 23,
   "id": "43f9ff25-0cb6-455a-b69b-3536ff4996d2",
   "metadata": {},
   "outputs": [
    {
     "data": {
      "text/plain": [
       "['Remember,', 'remember,', 'the', 'fifth', 'of', 'July.']"
      ]
     },
     "execution_count": 23,
     "metadata": {},
     "output_type": "execute_result"
    }
   ],
   "source": [
    "'Remember, remember, the fifth of July.'.split()"
   ]
  },
  {
   "cell_type": "code",
   "execution_count": 24,
   "id": "e98b1e72-38ed-4272-9950-fb728e2d2e11",
   "metadata": {},
   "outputs": [
    {
     "data": {
      "text/plain": [
       "'There-can-only-one.'"
      ]
     },
     "execution_count": 24,
     "metadata": {},
     "output_type": "execute_result"
    }
   ],
   "source": [
    "\n",
    "'-'.join('There can only one.'.split())\n"
   ]
  },
  {
   "cell_type": "markdown",
   "id": "48f88b98-7aed-42d8-9241-ad28c8de5e88",
   "metadata": {},
   "source": [
    "#### Q9. What are the methods for right-justifying, left-justifying, and centering a string?"
   ]
  },
  {
   "cell_type": "code",
   "execution_count": 25,
   "id": "95f5cca5-1715-42c1-a529-2b1749af175a",
   "metadata": {},
   "outputs": [],
   "source": [
    "# Ans - The rjust() - right-justifying\n",
    "#       ljust() - left-justifying\n",
    "#       center() - centering string methods. "
   ]
  },
  {
   "cell_type": "markdown",
   "id": "67a79c6e-dce4-448a-9278-f1e875b99194",
   "metadata": {},
   "source": [
    "#### Q10. What is the best way to remove whitespace characters from the start or end?\n",
    "\n",
    " Ans -  strip(), lstrip() and rstrip() methods remove whitespace"
   ]
  },
  {
   "cell_type": "code",
   "execution_count": 26,
   "id": "6d607749-0ed5-499c-a893-d3bb79241b30",
   "metadata": {},
   "outputs": [
    {
     "data": {
      "text/plain": [
       "'data science'"
      ]
     },
     "execution_count": 26,
     "metadata": {},
     "output_type": "execute_result"
    }
   ],
   "source": [
    "a = \"  data science   \"\n",
    "a.strip()"
   ]
  }
 ],
 "metadata": {
  "kernelspec": {
   "display_name": "Python 3 (ipykernel)",
   "language": "python",
   "name": "python3"
  },
  "language_info": {
   "codemirror_mode": {
    "name": "ipython",
    "version": 3
   },
   "file_extension": ".py",
   "mimetype": "text/x-python",
   "name": "python",
   "nbconvert_exporter": "python",
   "pygments_lexer": "ipython3",
   "version": "3.10.6"
  }
 },
 "nbformat": 4,
 "nbformat_minor": 5
}
