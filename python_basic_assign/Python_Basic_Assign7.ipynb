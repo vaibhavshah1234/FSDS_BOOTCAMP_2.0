{
 "cells": [
  {
   "cell_type": "markdown",
   "id": "a052306f-2500-4332-92ca-be04a49473a0",
   "metadata": {},
   "source": [
    "#### Q1 What is the name of the feature responsible for generating Regex objects?"
   ]
  },
  {
   "cell_type": "code",
   "execution_count": 1,
   "id": "f399d2e2-1664-417e-b1e4-703a26ae039e",
   "metadata": {},
   "outputs": [
    {
     "data": {
      "text/plain": [
       "re.compile(r'ineuron', re.UNICODE)"
      ]
     },
     "execution_count": 1,
     "metadata": {},
     "output_type": "execute_result"
    }
   ],
   "source": [
    "#The re.compile() function returns Regex objects.\n",
    "import re\n",
    "re.compile(\"ineuron\")\n"
   ]
  },
  {
   "cell_type": "markdown",
   "id": "09d922c4-ce8b-4fb1-b9a9-d872cfb2bf82",
   "metadata": {},
   "source": [
    "#### Q2. Why do raw strings often appear in Regex objects?"
   ]
  },
  {
   "cell_type": "code",
   "execution_count": 3,
   "id": "4d3df423-5a5f-40fa-92f7-c36977de323c",
   "metadata": {},
   "outputs": [],
   "source": [
    "# Ans - Raw strings are used so that backslashes do not have to be escaped"
   ]
  },
  {
   "cell_type": "markdown",
   "id": "5c63ada1-c1f5-409b-a000-2242b0f01d8b",
   "metadata": {},
   "source": [
    "#### Q3. What is the return value of the search() method ?"
   ]
  },
  {
   "cell_type": "code",
   "execution_count": 4,
   "id": "872a6f30-1faf-4833-af42-9217013f0ce4",
   "metadata": {},
   "outputs": [],
   "source": [
    "# Ans - returns match object"
   ]
  },
  {
   "cell_type": "markdown",
   "id": "182136ee-a68e-4a61-9559-544d9829dbf5",
   "metadata": {},
   "source": [
    "#### Q4. From a Match item, how do you get the actual strings that match the pattern?"
   ]
  },
  {
   "cell_type": "code",
   "execution_count": 5,
   "id": "074c0c51-19c6-427d-9144-c6ef92cfb26d",
   "metadata": {},
   "outputs": [],
   "source": [
    "# Ans - group() method is used to get the actual strings that match the pattern"
   ]
  },
  {
   "cell_type": "markdown",
   "id": "119ef475-4e7d-4e43-a265-6641931696e3",
   "metadata": {},
   "source": [
    "#### Q5.  In the regex which created from the r'(\\d\\d\\d)-(\\d\\d\\d-\\d\\d\\d\\d)', what does group zero cover?"
   ]
  },
  {
   "cell_type": "code",
   "execution_count": 17,
   "id": "e33c45c6-0ea7-4f46-b242-6d59ca2675a6",
   "metadata": {},
   "outputs": [
    {
     "name": "stdout",
     "output_type": "stream",
     "text": [
      "345-444-4542\n",
      "345\n",
      "444-4542\n"
     ]
    }
   ],
   "source": [
    "import re\n",
    "phoneNumRegex = re.compile(r'(\\d\\d\\d)-(\\d\\d\\d-\\d\\d\\d\\d)')\n",
    "mo = phoneNumRegex.search('My number is 345-444-4542.')\n",
    "print(mo.group(0))\n",
    "print(mo.group(1))\n",
    "print(mo.group(2))"
   ]
  },
  {
   "cell_type": "markdown",
   "id": "c178afa5-0967-49ac-8105-40e58ec8b5b1",
   "metadata": {},
   "source": [
    "#### Q6. In standard expression syntax, parentheses and intervals have distinct meanings. How can you tell a regex that you want it to fit real parentheses and periods?\n",
    "\n"
   ]
  },
  {
   "cell_type": "code",
   "execution_count": 18,
   "id": "ed4dcd87-1496-4f2e-b85e-78621ee121f3",
   "metadata": {},
   "outputs": [],
   "source": [
    "# Ans - Periods and parentheses can be escaped with a backslash: \\., \\(, and \\)."
   ]
  },
  {
   "cell_type": "markdown",
   "id": "34cc98aa-1fff-4ed3-a519-830e1584d4d2",
   "metadata": {},
   "source": [
    "#### Q7. The findall() method returns a string list or a list of string tuples. What causes it to return one of the two options?"
   ]
  },
  {
   "cell_type": "code",
   "execution_count": 19,
   "id": "843743fe-1511-4d75-939d-3bbc5f819e2d",
   "metadata": {},
   "outputs": [],
   "source": [
    "# Ans. If the regex has no groups, a list of strings is returned. \n",
    "#      If the regex has groups, a list of tuples of strings is returned."
   ]
  },
  {
   "cell_type": "markdown",
   "id": "e4361cf7-1531-44d5-a87f-f4486a0d497b",
   "metadata": {},
   "source": [
    "#### Q8.  In standard expressions, what does the | character mean?"
   ]
  },
  {
   "cell_type": "code",
   "execution_count": 20,
   "id": "e7b33765-b187-492b-bff9-2cf033e4033c",
   "metadata": {},
   "outputs": [],
   "source": [
    "# Ans - '|' this is a pipe. The | character signifies matching \"either, or\" between two groups. "
   ]
  },
  {
   "cell_type": "markdown",
   "id": "f970a733-296a-4f8d-952b-56095d111f46",
   "metadata": {},
   "source": [
    "#### Q9. In regular expressions, what does the ? character stand for?"
   ]
  },
  {
   "cell_type": "code",
   "execution_count": 21,
   "id": "83543c62-3ec9-4fa5-958c-4d934e7ffc95",
   "metadata": {},
   "outputs": [],
   "source": [
    "# Ans - The ? character can either mean \"match zero or one of the preceding group\" or be used to signify nongreedy matching."
   ]
  },
  {
   "cell_type": "markdown",
   "id": "1c4251d8-2385-491c-9bd8-7272adb2993c",
   "metadata": {},
   "source": [
    "#### Q10. In regular expressions, what is the difference between the + and * characters?"
   ]
  },
  {
   "cell_type": "code",
   "execution_count": 22,
   "id": "c072561b-7777-4fe8-8035-86b4646c0dfb",
   "metadata": {},
   "outputs": [],
   "source": [
    "# Ans - The + matches one or more. The * matches zero or more."
   ]
  },
  {
   "cell_type": "markdown",
   "id": "9c54c657-04a3-494c-985a-e8e5b0aebaa6",
   "metadata": {},
   "source": [
    "#### Q11. What is the difference between {4} and {4,5} in regular expression?"
   ]
  },
  {
   "cell_type": "code",
   "execution_count": 23,
   "id": "673b32e0-6dea-47d3-9b8a-3cd438be1a56",
   "metadata": {},
   "outputs": [],
   "source": [
    "# Ans - The {4} matches exactly three instances of the preceding group.\n",
    "#       The {4,5} matches between three and five instances."
   ]
  },
  {
   "cell_type": "markdown",
   "id": "2f5cbefd-17d0-40a6-8a82-8861b29b18e4",
   "metadata": {},
   "source": [
    "#### Q12. What do you mean by the \\d, \\w, and \\s shorthand character classes signify in regular expressions?"
   ]
  },
  {
   "cell_type": "code",
   "execution_count": 24,
   "id": "e34909ce-ede6-461b-b9b6-0c49bc5bf4d1",
   "metadata": {},
   "outputs": [],
   "source": [
    "# Ans - \\d = single digit\n",
    "#       \\w = word\n",
    "#       \\s = space"
   ]
  },
  {
   "cell_type": "markdown",
   "id": "becfa3cc-3a7a-4e21-9ff8-207dc4bf9601",
   "metadata": {},
   "source": [
    "#### Q13. What do means by \\D, \\W, and \\S shorthand character classes signify in regular expressions? "
   ]
  },
  {
   "cell_type": "code",
   "execution_count": 26,
   "id": "571978d3-870f-40d9-89ee-fe0108c27d79",
   "metadata": {},
   "outputs": [],
   "source": [
    "# Ans - \\D = single character that is not a digit(0-9)\n",
    "#       \\W = word\n",
    "#       \\S = space"
   ]
  },
  {
   "cell_type": "markdown",
   "id": "868019a8-5d84-4fc7-ab0b-28804ece38e6",
   "metadata": {},
   "source": [
    "#### Q14. What is the difference between .*? and .*?"
   ]
  },
  {
   "cell_type": "code",
   "execution_count": 27,
   "id": "48c9ce59-c1d9-4219-b27d-4c7024be2222",
   "metadata": {},
   "outputs": [],
   "source": [
    "# Ans - The . performs a greedy match\n",
    "#       .? performs a nongreedy match."
   ]
  },
  {
   "cell_type": "markdown",
   "id": "4dd78143-c8a0-45cc-96f1-f3e5542c026b",
   "metadata": {},
   "source": [
    "#### Q15. What is the syntax for matching both numbers and lowercase letters with a character class?"
   ]
  },
  {
   "cell_type": "code",
   "execution_count": 28,
   "id": "4572bbb7-bd39-4e99-9446-7ae545f3ec7b",
   "metadata": {},
   "outputs": [],
   "source": [
    "# Ans -  Either [0-9a-z] or [a-z0-9]"
   ]
  },
  {
   "cell_type": "markdown",
   "id": "7b991d01-0ed1-4b15-b76a-bf16b4c4c7da",
   "metadata": {},
   "source": [
    "#### Q16. What is the procedure for making a normal expression in regax case insensitive?\n",
    "\n",
    "Ans - Passing re.I or re.IGNORECASE as the second argument to re.compile() will make the matching case insensitive."
   ]
  },
  {
   "cell_type": "code",
   "execution_count": 31,
   "id": "4d670d8c-a2c0-4f38-9aab-1bbf1eadaff8",
   "metadata": {},
   "outputs": [
    {
     "data": {
      "text/plain": [
       "'Hello'"
      ]
     },
     "execution_count": 31,
     "metadata": {},
     "output_type": "execute_result"
    }
   ],
   "source": [
    "casesen = re.compile(r'HELLO', re.I)\n",
    "casesen.search('Hello ineuron team members').group()"
   ]
  },
  {
   "cell_type": "markdown",
   "id": "638eb682-91b3-4d41-baaf-a6de69f6ad94",
   "metadata": {},
   "source": [
    "#### Q17. What does the . character normally match? What does it match if re.DOTALL is passed as 2nd argument in re.compile()?"
   ]
  },
  {
   "cell_type": "code",
   "execution_count": 32,
   "id": "3158c057-97ed-46fa-9fb7-4422c077a0c3",
   "metadata": {},
   "outputs": [],
   "source": [
    "# Ans -The . character normally matches any character except the newline character."
   ]
  },
  {
   "cell_type": "markdown",
   "id": "7efcb439-29a0-4711-8223-fdc54ce8999f",
   "metadata": {},
   "source": [
    "#### Q18. If numRegex = re.compile(r'\\d+'), what will numRegex.sub('X', '11 drummers, 10 pipers, five rings, 4 hen') return?\n"
   ]
  },
  {
   "cell_type": "code",
   "execution_count": 33,
   "id": "d08ed732-0f05-47a6-ac81-8016e9d62d84",
   "metadata": {},
   "outputs": [
    {
     "data": {
      "text/plain": [
       "'X drummers, X pipers, five rings, X hen'"
      ]
     },
     "execution_count": 33,
     "metadata": {},
     "output_type": "execute_result"
    }
   ],
   "source": [
    "numRegex = re.compile(r'\\d+')\n",
    "a = numRegex.sub('X', '11 drummers, 10 pipers, five rings, 4 hen')\n",
    "a     "
   ]
  },
  {
   "cell_type": "markdown",
   "id": "6320ee7a-f2ff-44b9-b9a8-707cd6dac4e3",
   "metadata": {},
   "source": [
    "#### Q19. What does passing re.VERBOSE as the 2nd argument to re.compile() allow to do?"
   ]
  },
  {
   "cell_type": "code",
   "execution_count": 34,
   "id": "3ef0dcdc-14a7-4112-a0ec-297334266f52",
   "metadata": {},
   "outputs": [],
   "source": [
    "# Ans- The re.VERBOSE argument allows you to add whitespace and comments to the string passed to re.compile()"
   ]
  },
  {
   "cell_type": "markdown",
   "id": "d26760b5-eb7d-4137-8e91-6fd0b6dab963",
   "metadata": {},
   "source": [
    "#### Q20. How would you write a regex that match a number with comma for every three digits? It must match the given following:"
   ]
  },
  {
   "cell_type": "code",
   "execution_count": 35,
   "id": "b0b5f17e-c2f9-4eb6-af43-ab7fceef812b",
   "metadata": {},
   "outputs": [
    {
     "data": {
      "text/plain": [
       "'42'"
      ]
     },
     "execution_count": 35,
     "metadata": {},
     "output_type": "execute_result"
    }
   ],
   "source": [
    "reg1 = re.compile(r'^\\d{1,3}(,\\d{3})*$')\n",
    "a = reg1.search('42')\n",
    "a.group()"
   ]
  },
  {
   "cell_type": "code",
   "execution_count": 36,
   "id": "00790b7f-72ed-4e5a-b683-e4787da4cc67",
   "metadata": {},
   "outputs": [
    {
     "data": {
      "text/plain": [
       "'1,234'"
      ]
     },
     "execution_count": 36,
     "metadata": {},
     "output_type": "execute_result"
    }
   ],
   "source": [
    "reg1 = re.compile(r'^\\d{1,3}(,\\d{3})*$')\n",
    "b = reg1.search('1,234')\n",
    "b.group()"
   ]
  },
  {
   "cell_type": "code",
   "execution_count": 37,
   "id": "2234e42a-e928-4a56-8766-52f6f6ba529e",
   "metadata": {},
   "outputs": [
    {
     "data": {
      "text/plain": [
       "'6,368,745'"
      ]
     },
     "execution_count": 37,
     "metadata": {},
     "output_type": "execute_result"
    }
   ],
   "source": [
    "reg1 = re.compile(r'^\\d{1,3}(,\\d{3})*$')\n",
    "c = reg1.search('6,368,745')\n",
    "c.group()"
   ]
  },
  {
   "cell_type": "markdown",
   "id": "03178d37-d5bf-475f-bd35-5b8f823676d4",
   "metadata": {},
   "source": [
    "#### Q21. How would you write a regex that matches the full name of someone whose last name is Watanabe? You can assume that the first name that comes before it will always be one word that begins with a capital letter. The regex must match the following:\n",
    "\n",
    "'Satoshi Nakamoto'\n",
    "\n",
    "'Alice Nakamoto'\n",
    "\n",
    "'Robocop Nakamoto'\n",
    "\n",
    "#### but not the following:\n",
    "\n",
    "'satoshi Nakamoto' (where the first name is not capitalized)\n",
    "\n",
    "'Mr. Nakamoto' (where the preceding word has a nonletter character)\n",
    "\n",
    "'Nakamoto' (which has no first name)\n",
    "\n",
    "'Satoshi nakamoto' (where Nakamoto is not capitalized)"
   ]
  },
  {
   "cell_type": "code",
   "execution_count": 40,
   "id": "f74f3243-9ca9-4a1e-bd68-5b11fd61439e",
   "metadata": {},
   "outputs": [
    {
     "name": "stdout",
     "output_type": "stream",
     "text": [
      "Satoshi Nakamoto\n",
      "------------------------------\n",
      "Alice Nakamoto\n",
      "------------------------------\n",
      "Robocop Nakamoto\n"
     ]
    }
   ],
   "source": [
    "name = re.compile(r'[A-Z][a-z]*\\sNakamoto')\n",
    "reg1 = re.compile(r'^\\d{1,3}(,\\d{Satoshi Nakamoto3})*$')\n",
    "k = name.search('Satoshi Nakamoto')\n",
    "print(k.group())\n",
    "print('-'*30)\n",
    "\n",
    "\n",
    "name = re.compile(r'[A-Z][a-z]*\\sNakamoto')\n",
    "reg1 = re.compile(r'^\\d{1,3}(,\\d{3})*$')\n",
    "l = name.search('Alice Nakamoto')\n",
    "print(l.group())\n",
    "print('-'*30)\n",
    "\n",
    "name = re.compile(r'[A-Z][a-z]*\\sNakamoto')\n",
    "reg1 = re.compile(r'^\\d{1,3}(,\\d{3})*$')\n",
    "m = name.search('Robocop Nakamoto')\n",
    "print(m.group())\n",
    "     "
   ]
  },
  {
   "cell_type": "markdown",
   "id": "081455dc-14e7-4d89-aaa1-5abb9bac5067",
   "metadata": {},
   "source": [
    "#### Q22. How would you write a regex that matches a sentence where the first word is either Alice, Bob, or Carol; the second word is either eats, pets, or throws; the third word is apples, cats, or baseballs; and the sentence ends with a period? This regex should be case-insensitive. It must match the following:\n",
    "\n",
    "'Alice eats apples.'\n",
    "\n",
    "'Bob pets cats.'\n",
    "\n",
    "'Carol throws baseballs.'\n",
    "\n",
    "'Alice throws Apples.'\n",
    "\n",
    "'BOB EATS CATS.'\n",
    "\n",
    "#### but not the following:\n",
    "\n",
    "'Robocop eats apples.'\n",
    "\n",
    "'ALICE THROWS FOOTBALLS.'\n",
    "\n",
    "'Carol eats 7 cats.'"
   ]
  },
  {
   "cell_type": "code",
   "execution_count": 41,
   "id": "390ba369-a73e-4865-8a94-b88849aad6bc",
   "metadata": {},
   "outputs": [
    {
     "name": "stdout",
     "output_type": "stream",
     "text": [
      "Alice eats apples.\n",
      "------------------------------\n",
      "Bob pets cats.\n",
      "------------------------------\n",
      "Carol throws baseballs.\n",
      "------------------------------\n",
      "Alice throws Apples.\n",
      "------------------------------\n",
      "BOB EATS CATS.\n"
     ]
    }
   ],
   "source": [
    "name = re.compile(r'(Alice|Bob|Carol)\\s(eats|pets|throws)\\s(apples|cats|baseballs)\\.', re.IGNORECASE)\n",
    "a = name.search('Alice eats apples.')\n",
    "print(a.group())\n",
    "print('-'*30)\n",
    "\n",
    "b = name.search('Bob pets cats.')\n",
    "print(b.group())\n",
    "print('-'*30)\n",
    "\n",
    "c = name.search('Carol throws baseballs.')\n",
    "print(c.group())\n",
    "print('-'*30)\n",
    "\n",
    "d = name.search('Alice throws Apples.')\n",
    "print(d.group())\n",
    "print('-'*30)\n",
    "\n",
    "e = name.search('BOB EATS CATS.')\n",
    "print(e.group())\n"
   ]
  }
 ],
 "metadata": {
  "kernelspec": {
   "display_name": "Python 3 (ipykernel)",
   "language": "python",
   "name": "python3"
  },
  "language_info": {
   "codemirror_mode": {
    "name": "ipython",
    "version": 3
   },
   "file_extension": ".py",
   "mimetype": "text/x-python",
   "name": "python",
   "nbconvert_exporter": "python",
   "pygments_lexer": "ipython3",
   "version": "3.10.6"
  }
 },
 "nbformat": 4,
 "nbformat_minor": 5
}
