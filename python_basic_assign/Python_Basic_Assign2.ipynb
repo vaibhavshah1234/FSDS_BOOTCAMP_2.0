{
 "cells": [
  {
   "cell_type": "markdown",
   "id": "8a426cbf-bc59-41c9-8701-ae3e6ec513f8",
   "metadata": {},
   "source": [
    "#### Q1.What are the two values of the Boolean data type? How do you write them?"
   ]
  },
  {
   "cell_type": "code",
   "execution_count": 5,
   "id": "1f5c10cc-5144-4fbf-a5b2-0d3847a2dc69",
   "metadata": {},
   "outputs": [],
   "source": [
    "# Ans- Python Boolean data type has only two values: True and False. write using T and F"
   ]
  },
  {
   "cell_type": "code",
   "execution_count": 6,
   "id": "6ff8ade8-1e21-493b-8f91-32342c6a12ad",
   "metadata": {},
   "outputs": [
    {
     "name": "stdout",
     "output_type": "stream",
     "text": [
      "True\n",
      "False\n"
     ]
    }
   ],
   "source": [
    "a = True\n",
    "b = False\n",
    "print(a)\n",
    "print(b)\n",
    "   "
   ]
  },
  {
   "cell_type": "code",
   "execution_count": 3,
   "id": "88abd558-f67a-4fc9-b029-fe04712b67c5",
   "metadata": {},
   "outputs": [
    {
     "name": "stdout",
     "output_type": "stream",
     "text": [
      "False\n"
     ]
    }
   ],
   "source": [
    "a = 2\n",
    "b = 1\n",
    "print(a==b)"
   ]
  },
  {
   "cell_type": "markdown",
   "id": "bcccaacf-9ac2-4cce-90aa-972435e57fa3",
   "metadata": {},
   "source": [
    "#### Q2. What are the three different types of Boolean operators?"
   ]
  },
  {
   "cell_type": "code",
   "execution_count": 4,
   "id": "5201a1aa-6ecb-4250-ac63-b3f9a0d84bdb",
   "metadata": {},
   "outputs": [],
   "source": [
    "# Ans - AND, OR, NOT"
   ]
  },
  {
   "cell_type": "markdown",
   "id": "e0fae398-d03e-46cc-9a1b-865018f4f728",
   "metadata": {},
   "source": [
    "#### Q3. Make a list of each Boolean operator&#39;s truth tables (i.e. every possible combination of Boolean values for the operator and what it evaluate )."
   ]
  },
  {
   "cell_type": "markdown",
   "id": "a5981834-b7f8-47a2-a911-6c3e77a52582",
   "metadata": {},
   "source": [
    "Bool_value_1 | Bool_value_2 | Outcome\n",
    "-|-|-\n",
    "Ture|True|True.\n",
    "True|False|False.\n",
    "False|True| False.\n",
    "False | False | False.\n",
    "True | True | True.\n",
    "True | False | True.\n",
    "False | True | True.\n",
    "False | False | False.\n",
    "\n"
   ]
  },
  {
   "cell_type": "markdown",
   "id": "3e34fc78-fff6-4c95-815a-b7328625d4b6",
   "metadata": {},
   "source": [
    "#### Q4. What are the values of the following expressions?\n"
   ]
  },
  {
   "cell_type": "code",
   "execution_count": 7,
   "id": "8c1aeedb-797c-4466-b341-06fc96b26f39",
   "metadata": {},
   "outputs": [
    {
     "name": "stdout",
     "output_type": "stream",
     "text": [
      "False\n",
      "False\n",
      "True\n",
      "False\n",
      "False\n",
      "True\n"
     ]
    }
   ],
   "source": [
    "print((5>4) and (3==5))\n",
    "print(not(5>4))\n",
    "print((5>4) or (3==5))\n",
    "print(not(5>4) or (3==5))\n",
    "print((True and True) and (True==False))\n",
    "print((not(False))or(not(True)))"
   ]
  },
  {
   "cell_type": "markdown",
   "id": "569c0766-c8bb-449c-9f4c-9efabd5ca0de",
   "metadata": {},
   "source": [
    "#### Q5. What are the six comparison operators?\n"
   ]
  },
  {
   "cell_type": "code",
   "execution_count": 8,
   "id": "2470b252-1ce6-4bf8-8f1e-29387d97e7e2",
   "metadata": {},
   "outputs": [],
   "source": [
    "# Ans -  The six comparison operators are : ==, !=, >, <, >=, <="
   ]
  },
  {
   "cell_type": "markdown",
   "id": "9697090d-2d7d-4d15-ada4-00d2e7f67513",
   "metadata": {},
   "source": [
    "#### Q6. How do you tell the difference between the equal to and assignment operators?Describe a condition and when you would use one."
   ]
  },
  {
   "cell_type": "code",
   "execution_count": 9,
   "id": "b3b78d18-bf48-4d3d-938f-b0efe9133a10",
   "metadata": {},
   "outputs": [
    {
     "name": "stdout",
     "output_type": "stream",
     "text": [
      "False\n",
      "c = 5\n"
     ]
    }
   ],
   "source": [
    "# Ans -  == is the equal to operator that compares two values and evaluates to a Boolean, \n",
    "#         while = is the assignment operator that stores a value in a variable.\n",
    "\n",
    "# Ex:\n",
    "# equal to operator\n",
    "a = 2\n",
    "b = 1\n",
    "print(a==b)\n",
    "\n",
    "# assignment operator\n",
    "\n",
    "c = 5\n",
    "print(f\"c = {c}\")"
   ]
  },
  {
   "cell_type": "markdown",
   "id": "bfb0960c-9280-43cb-85a1-6949102a41d2",
   "metadata": {},
   "source": [
    "#### Q7. Identify the three blocks in this code:"
   ]
  },
  {
   "cell_type": "code",
   "execution_count": 10,
   "id": "ddfb56bf-f3d7-420c-81d5-c3e9b9b50ba4",
   "metadata": {},
   "outputs": [
    {
     "name": "stdout",
     "output_type": "stream",
     "text": [
      "ham\n",
      "spam\n",
      "spam\n"
     ]
    }
   ],
   "source": [
    "spam = 0\n",
    "if spam == 10:\n",
    "    print('eggs')   #Block 1\n",
    "if spam > 5:\n",
    "    print('bacon')  #Block 2\n",
    "else:\n",
    "    print('ham')    #Block 3\n",
    "    print('spam')\n",
    "    print('spam')"
   ]
  },
  {
   "cell_type": "markdown",
   "id": "7fa338e6-1495-43e8-a82a-031b1c37a868",
   "metadata": {},
   "source": [
    "#### Q8. Write code that prints Hello if 1 is stored in spam, prints Howdy if 2 is stored in spam, and prints Greetings! if anything else is stored in spam."
   ]
  },
  {
   "cell_type": "code",
   "execution_count": 19,
   "id": "3473522b-c725-4603-8c88-1b55e8bf9f3c",
   "metadata": {},
   "outputs": [
    {
     "name": "stdin",
     "output_type": "stream",
     "text": [
      "enter a no:  1\n"
     ]
    },
    {
     "name": "stdout",
     "output_type": "stream",
     "text": [
      "Hello\n"
     ]
    }
   ],
   "source": [
    "spam = int(input(\"enter a no: \"))\n",
    "if spam == 1:\n",
    "  print(\"Hello\")\n",
    "elif spam == 2:\n",
    "  print(\"Howdy\")\n",
    "else:\n",
    "  print(\"Greetings!\")"
   ]
  },
  {
   "cell_type": "markdown",
   "id": "5f24794b-d490-4329-ad6d-5e575b947869",
   "metadata": {},
   "source": [
    "#### Q9.If your programme is stuck in an endless loop, what keys you’ll press?"
   ]
  },
  {
   "cell_type": "code",
   "execution_count": 20,
   "id": "29ae3ac3-7394-4d79-a8a6-26ab2c502f7e",
   "metadata": {},
   "outputs": [],
   "source": [
    "# Ans - ctrl+c."
   ]
  },
  {
   "cell_type": "markdown",
   "id": "0e49df5a-16f4-4e61-8768-25b6ee9e01e3",
   "metadata": {},
   "source": [
    "#### Q10. How can you tell the difference between break and continue?"
   ]
  },
  {
   "cell_type": "code",
   "execution_count": 22,
   "id": "9161e383-5f9e-4768-8c21-ad16aad118ae",
   "metadata": {},
   "outputs": [
    {
     "name": "stdout",
     "output_type": "stream",
     "text": [
      "0\n",
      "1\n",
      "2\n",
      "3\n"
     ]
    }
   ],
   "source": [
    "# Ans - The break statement terminates the whole iteration of a loop whereas continue skips the current iteration\n",
    "\n",
    "# Ex : Break Statement\n",
    "\n",
    "for i in range(8):\n",
    "    if i == 4:\n",
    "        break\n",
    "    print(i)"
   ]
  },
  {
   "cell_type": "code",
   "execution_count": 23,
   "id": "d46ea52e-e49b-4f80-ba3a-966cb47d6471",
   "metadata": {},
   "outputs": [
    {
     "name": "stdout",
     "output_type": "stream",
     "text": [
      "0\n",
      "1\n",
      "2\n",
      "3\n",
      "5\n",
      "6\n",
      "7\n"
     ]
    }
   ],
   "source": [
    "# Ex : continue Statement\n",
    "\n",
    "for i in range(8):\n",
    "    if i == 4:\n",
    "        continue\n",
    "    print(i)"
   ]
  },
  {
   "cell_type": "markdown",
   "id": "448b5a26-ee4e-4a24-b535-326e66512d48",
   "metadata": {},
   "source": [
    "#### Q11. In a for loop, what is the difference between range(10), range(0, 10), and range(0, 10, 1)?"
   ]
  },
  {
   "cell_type": "code",
   "execution_count": 36,
   "id": "20b7a111-86e0-446b-aff5-208790c85499",
   "metadata": {},
   "outputs": [
    {
     "name": "stdout",
     "output_type": "stream",
     "text": [
      "0\n",
      "1\n",
      "2\n",
      "3\n",
      "4\n",
      "5\n",
      "6\n",
      "7\n",
      "8\n",
      "9\n",
      "------------------------------\n",
      "0\n",
      "1\n",
      "2\n",
      "3\n",
      "4\n",
      "5\n",
      "6\n",
      "7\n",
      "8\n",
      "9\n",
      "------------------------------\n",
      "0\n",
      "1\n",
      "2\n",
      "3\n",
      "4\n",
      "5\n",
      "6\n",
      "7\n",
      "8\n",
      "9\n",
      "\n",
      "In short all give same ans but there is differnce that i have mentioned in the code itself\n"
     ]
    }
   ],
   "source": [
    "# Ex -  range(10)\n",
    "\n",
    "for i in range(10):\n",
    "    print(i)\n",
    "print(\"-\"*30 )\n",
    "\n",
    "# Ex : range(0,10) - starting from 0 till 10 but 10 not included.\n",
    "\n",
    "for i in range(0,10):\n",
    "    print(i)\n",
    "print(\"-\"*30 )   \n",
    "\n",
    "# Ex : range(0,10,1) - (start,end,skip) \n",
    "\n",
    "for i in range(0,10,1):\n",
    "    print(i)\n",
    "    \n",
    "\n",
    "print(\"\\nIn short all give same ans but there is differnce that i have mentioned in the code itself\")\n"
   ]
  },
  {
   "cell_type": "markdown",
   "id": "6b309b4f-5478-402f-8d07-20a5f9ab243e",
   "metadata": {},
   "source": [
    "#### Q12. Write a short program that prints the numbers 1 to 10 using a for loop. Then write an equivalent program that prints the numbers 1 to 10 using a while loop."
   ]
  },
  {
   "cell_type": "code",
   "execution_count": 37,
   "id": "a09f0942-4837-4c8b-bb9b-37d6f4ee7faa",
   "metadata": {},
   "outputs": [
    {
     "name": "stdout",
     "output_type": "stream",
     "text": [
      "1\n",
      "2\n",
      "3\n",
      "4\n",
      "5\n",
      "6\n",
      "7\n",
      "8\n",
      "9\n",
      "10\n"
     ]
    }
   ],
   "source": [
    "# For Loop\n",
    "\n",
    "for i in range(1,11):\n",
    "    print(i)"
   ]
  },
  {
   "cell_type": "code",
   "execution_count": 38,
   "id": "8b1b96c3-4a51-4df3-bcd1-627ba803fb26",
   "metadata": {},
   "outputs": [
    {
     "name": "stdout",
     "output_type": "stream",
     "text": [
      "1\n",
      "2\n",
      "3\n",
      "4\n",
      "5\n",
      "6\n",
      "7\n",
      "8\n",
      "9\n",
      "10\n"
     ]
    }
   ],
   "source": [
    "# While loop\n",
    "a =1\n",
    "while a <= 10:\n",
    "    print(a)\n",
    "    a+=1"
   ]
  },
  {
   "cell_type": "markdown",
   "id": "b6bdbe72-449f-47aa-bb64-fa39be198267",
   "metadata": {},
   "source": [
    "#### Q13. If you had a function named bacon() inside a module named spam, how would you call it after importing spam?"
   ]
  },
  {
   "cell_type": "code",
   "execution_count": 39,
   "id": "14be85dd-045c-44cf-8b4f-a325df4ff250",
   "metadata": {},
   "outputs": [],
   "source": [
    "# Ans - spam.bacon()"
   ]
  }
 ],
 "metadata": {
  "kernelspec": {
   "display_name": "Python 3 (ipykernel)",
   "language": "python",
   "name": "python3"
  },
  "language_info": {
   "codemirror_mode": {
    "name": "ipython",
    "version": 3
   },
   "file_extension": ".py",
   "mimetype": "text/x-python",
   "name": "python",
   "nbconvert_exporter": "python",
   "pygments_lexer": "ipython3",
   "version": "3.10.6"
  }
 },
 "nbformat": 4,
 "nbformat_minor": 5
}
