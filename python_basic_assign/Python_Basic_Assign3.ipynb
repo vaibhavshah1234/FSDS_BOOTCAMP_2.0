{
 "cells": [
  {
   "cell_type": "markdown",
   "id": "402d801f-e5b3-4e9c-bae6-f8f91edf6cdf",
   "metadata": {},
   "source": [
    "#### Q1. Why are functions advantageous to have in your programs?"
   ]
  },
  {
   "cell_type": "code",
   "execution_count": 1,
   "id": "dfb2d44c-904f-493e-8ad0-d005487f6a09",
   "metadata": {},
   "outputs": [],
   "source": [
    "# Ans = Functions are very useful when we dont want to rewrite the code again and again we can use that function whenever we want.\n",
    " #       Function makes programs shorter, easier to read, and easier to update.\n"
   ]
  },
  {
   "cell_type": "markdown",
   "id": "8ec2a4d0-1fd0-4b18-93db-e6021aa31792",
   "metadata": {},
   "source": [
    "#### Q2. When does the code in a function run:when it's specified or when it's called?"
   ]
  },
  {
   "cell_type": "code",
   "execution_count": 2,
   "id": "2fa465bc-0b08-435e-bbd0-7aab0e26304f",
   "metadata": {},
   "outputs": [],
   "source": [
    "# Ans = Function runs when it is called."
   ]
  },
  {
   "cell_type": "markdown",
   "id": "0df45393-38ee-4e65-8d85-179f1a11edcb",
   "metadata": {},
   "source": [
    "#### Q3. What statement creates a function?"
   ]
  },
  {
   "cell_type": "code",
   "execution_count": 3,
   "id": "1c1f61cb-f1fb-4996-a79e-245d23665d52",
   "metadata": {},
   "outputs": [],
   "source": [
    "# Ans = def creates a function\n",
    "\n",
    "# Ex :\n",
    "\n",
    "def test():\n",
    "    print(\"Hello\")"
   ]
  },
  {
   "cell_type": "code",
   "execution_count": 4,
   "id": "c62fac67-527b-46ea-814d-3ff90935be7d",
   "metadata": {},
   "outputs": [
    {
     "name": "stdout",
     "output_type": "stream",
     "text": [
      "Hello\n"
     ]
    }
   ],
   "source": [
    "test()"
   ]
  },
  {
   "cell_type": "markdown",
   "id": "3d02ec0f-5246-4a5a-a3cc-ee6e79f5553c",
   "metadata": {},
   "source": [
    "#### Q4. What is the difference between a function and a function call?"
   ]
  },
  {
   "cell_type": "code",
   "execution_count": 5,
   "id": "28436a49-2e43-4938-84c7-f1a6e7127f35",
   "metadata": {},
   "outputs": [
    {
     "name": "stdout",
     "output_type": "stream",
     "text": [
      "Hello\n"
     ]
    }
   ],
   "source": [
    "# A function consists of the def statement and the code in its def clause.\n",
    "\n",
    "# A function call is what moves the program execution into the function, and the function call evaluates to the function's return value.\n",
    "\n",
    "# function:\n",
    "def test():\n",
    "    print(\"Hello\")\n",
    "    \n",
    "# Function Call:\n",
    "test()"
   ]
  },
  {
   "cell_type": "markdown",
   "id": "01b30d55-41d7-4268-afe4-fda289e641f8",
   "metadata": {},
   "source": [
    "#### Q5. How many global scopes are there in a Python program? How many local scopes?"
   ]
  },
  {
   "cell_type": "code",
   "execution_count": 6,
   "id": "8a2c0a46-9fbb-4bda-820a-58ea9e58b484",
   "metadata": {},
   "outputs": [],
   "source": [
    "# Ans = only 1 global scope and this scope remains in existence until the program terminates.\n",
    "#       local scope is created whenever a function is called."
   ]
  },
  {
   "cell_type": "markdown",
   "id": "4b271005-790d-4ec5-aae1-ef48cf48fd66",
   "metadata": {},
   "source": [
    "#### Q6. What happens to variables in a local scope when the function call returns?"
   ]
  },
  {
   "cell_type": "code",
   "execution_count": 7,
   "id": "12d35efd-7290-4a7f-bcee-a1d631eb78fb",
   "metadata": {},
   "outputs": [],
   "source": [
    "# Ans = Destroyed"
   ]
  },
  {
   "cell_type": "markdown",
   "id": "367a99c5-c21f-45da-9938-a4a46364162e",
   "metadata": {},
   "source": [
    "#### Q7. What is the concept of a return value? Is it possible to have a return value in an expression?"
   ]
  },
  {
   "cell_type": "code",
   "execution_count": 8,
   "id": "451f8123-fed2-4dc7-bc0c-215e9887818c",
   "metadata": {},
   "outputs": [],
   "source": [
    "# Ans = Return value is the value that a function call evaluates to and a return value can be used as part of an expression."
   ]
  },
  {
   "cell_type": "markdown",
   "id": "dc2f7609-951a-4a49-a5eb-72dbed3e4006",
   "metadata": {},
   "source": [
    "#### Q8. If a function does not have a return statement, what is the return value of a call to that function?"
   ]
  },
  {
   "cell_type": "code",
   "execution_count": 9,
   "id": "190dd1a7-ed43-4b8e-9827-ea6b690f77b6",
   "metadata": {},
   "outputs": [],
   "source": [
    "# Ans = Does not return anything"
   ]
  },
  {
   "cell_type": "markdown",
   "id": "5a27c152-c0da-418b-8ab6-d1fbacbef4c9",
   "metadata": {},
   "source": [
    "#### Q9. How do you make a function variable refer to the global variable?"
   ]
  },
  {
   "cell_type": "code",
   "execution_count": 11,
   "id": "1f2d9463-220c-4042-9d20-6f51c3ee5381",
   "metadata": {},
   "outputs": [],
   "source": [
    "# Ans = Using Global variable."
   ]
  },
  {
   "cell_type": "markdown",
   "id": "11fc10e5-92fe-465a-bddb-253725138c92",
   "metadata": {},
   "source": [
    "#### Q10. What is the data type of None?"
   ]
  },
  {
   "cell_type": "code",
   "execution_count": 12,
   "id": "2e973545-e7a4-40bc-b1dc-c7499dbc8a65",
   "metadata": {},
   "outputs": [],
   "source": [
    "# Ans = NoneType"
   ]
  },
  {
   "cell_type": "markdown",
   "id": "64f3309f-97d1-4ffb-8463-16ba7a405be2",
   "metadata": {},
   "source": [
    "#### Q11. What does the sentence import areallyourpetsnamederic do?\n",
    "\n"
   ]
  },
  {
   "cell_type": "code",
   "execution_count": 13,
   "id": "99af7351-750e-481f-b29c-01c270bf84ff",
   "metadata": {},
   "outputs": [],
   "source": [
    "# Ans = That import statement imports a module named areallyourpetsnamederic.(As per my Knowledge this type of module is not present in the python)."
   ]
  },
  {
   "cell_type": "markdown",
   "id": "6d64efc7-354e-415f-8985-4ecef3ae3fde",
   "metadata": {},
   "source": [
    "#### Q12. If you had a bacon() feature in a spam module, what would you call it after importing spam?\n",
    "\n",
    "\n"
   ]
  },
  {
   "cell_type": "code",
   "execution_count": 14,
   "id": "dbf15049-5b7c-41c6-a36e-1ca42372252f",
   "metadata": {},
   "outputs": [],
   "source": [
    "# Ans = spam.bacon()"
   ]
  },
  {
   "cell_type": "markdown",
   "id": "0cd5aba8-01b4-4915-9854-d7066e4f3804",
   "metadata": {},
   "source": [
    "#### Q13. What can you do to save a programme from crashing if it encounters an error?\n"
   ]
  },
  {
   "cell_type": "code",
   "execution_count": 15,
   "id": "3243bcde-2357-4680-8be0-8861c7f12cc2",
   "metadata": {},
   "outputs": [],
   "source": [
    "# Ans = Will use of try , except, else, finally statemnet block."
   ]
  },
  {
   "cell_type": "markdown",
   "id": "e1e10806-8870-48dd-a076-7ae5140460dc",
   "metadata": {},
   "source": [
    "#### Q14. What is the purpose of the try clause? What is the purpose of the except clause?\n",
    "\n",
    "Ans = Try and Except clause is used to handle the errors within our code . The try block is used to check some code for errors i.e the code inside the try block will execute when there is no error in the program. Whereas the code inside the except block will execute whenever the program encounters some error in the try block."
   ]
  },
  {
   "cell_type": "code",
   "execution_count": 16,
   "id": "d72453f0-7d74-4c40-b0df-c516d70757f8",
   "metadata": {},
   "outputs": [
    {
     "name": "stdin",
     "output_type": "stream",
     "text": [
      "enter a no 2\n",
      "enter a no 0\n"
     ]
    },
    {
     "name": "stdout",
     "output_type": "stream",
     "text": [
      "Something went wrong!\n",
      "division by zero\n"
     ]
    }
   ],
   "source": [
    "a = int(input(\"enter a no\"))\n",
    "b = int(input(\"enter a no\"))\n",
    "try:\n",
    "    c = a/b\n",
    "    print(c)\n",
    "except Exception as e:\n",
    "    print(\"Something went wrong!\")\n",
    "    print(e)\n",
    "    \n",
    "    "
   ]
  }
 ],
 "metadata": {
  "kernelspec": {
   "display_name": "Python 3 (ipykernel)",
   "language": "python",
   "name": "python3"
  },
  "language_info": {
   "codemirror_mode": {
    "name": "ipython",
    "version": 3
   },
   "file_extension": ".py",
   "mimetype": "text/x-python",
   "name": "python",
   "nbconvert_exporter": "python",
   "pygments_lexer": "ipython3",
   "version": "3.10.6"
  }
 },
 "nbformat": 4,
 "nbformat_minor": 5
}
